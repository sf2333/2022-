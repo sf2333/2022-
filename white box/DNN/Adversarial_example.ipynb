{
 "cells": [
  {
   "cell_type": "code",
   "execution_count": 1,
   "metadata": {},
   "outputs": [
    {
     "name": "stderr",
     "output_type": "stream",
     "text": [
      "E:\\ANACONDA\\envs\\python374\\lib\\site-packages\\tensorflow\\python\\framework\\dtypes.py:516: FutureWarning: Passing (type, 1) or '1type' as a synonym of type is deprecated; in a future version of numpy, it will be understood as (type, (1,)) / '(1,)type'.\n",
      "  _np_qint8 = np.dtype([(\"qint8\", np.int8, 1)])\n",
      "E:\\ANACONDA\\envs\\python374\\lib\\site-packages\\tensorflow\\python\\framework\\dtypes.py:517: FutureWarning: Passing (type, 1) or '1type' as a synonym of type is deprecated; in a future version of numpy, it will be understood as (type, (1,)) / '(1,)type'.\n",
      "  _np_quint8 = np.dtype([(\"quint8\", np.uint8, 1)])\n",
      "E:\\ANACONDA\\envs\\python374\\lib\\site-packages\\tensorflow\\python\\framework\\dtypes.py:518: FutureWarning: Passing (type, 1) or '1type' as a synonym of type is deprecated; in a future version of numpy, it will be understood as (type, (1,)) / '(1,)type'.\n",
      "  _np_qint16 = np.dtype([(\"qint16\", np.int16, 1)])\n",
      "E:\\ANACONDA\\envs\\python374\\lib\\site-packages\\tensorflow\\python\\framework\\dtypes.py:519: FutureWarning: Passing (type, 1) or '1type' as a synonym of type is deprecated; in a future version of numpy, it will be understood as (type, (1,)) / '(1,)type'.\n",
      "  _np_quint16 = np.dtype([(\"quint16\", np.uint16, 1)])\n",
      "E:\\ANACONDA\\envs\\python374\\lib\\site-packages\\tensorflow\\python\\framework\\dtypes.py:520: FutureWarning: Passing (type, 1) or '1type' as a synonym of type is deprecated; in a future version of numpy, it will be understood as (type, (1,)) / '(1,)type'.\n",
      "  _np_qint32 = np.dtype([(\"qint32\", np.int32, 1)])\n",
      "E:\\ANACONDA\\envs\\python374\\lib\\site-packages\\tensorflow\\python\\framework\\dtypes.py:525: FutureWarning: Passing (type, 1) or '1type' as a synonym of type is deprecated; in a future version of numpy, it will be understood as (type, (1,)) / '(1,)type'.\n",
      "  np_resource = np.dtype([(\"resource\", np.ubyte, 1)])\n"
     ]
    },
    {
     "name": "stdout",
     "output_type": "stream",
     "text": [
      "WARNING:tensorflow:From C:\\Users\\DH\\AppData\\Local\\Temp/ipykernel_31072/2952169696.py:2: The name tf.logging.set_verbosity is deprecated. Please use tf.compat.v1.logging.set_verbosity instead.\n",
      "\n",
      "WARNING:tensorflow:From C:\\Users\\DH\\AppData\\Local\\Temp/ipykernel_31072/2952169696.py:2: The name tf.logging.WARN is deprecated. Please use tf.compat.v1.logging.WARN instead.\n",
      "\n"
     ]
    },
    {
     "name": "stderr",
     "output_type": "stream",
     "text": [
      "E:\\ANACONDA\\envs\\python374\\lib\\site-packages\\tensorboard\\compat\\tensorflow_stub\\dtypes.py:541: FutureWarning: Passing (type, 1) or '1type' as a synonym of type is deprecated; in a future version of numpy, it will be understood as (type, (1,)) / '(1,)type'.\n",
      "  _np_qint8 = np.dtype([(\"qint8\", np.int8, 1)])\n",
      "E:\\ANACONDA\\envs\\python374\\lib\\site-packages\\tensorboard\\compat\\tensorflow_stub\\dtypes.py:542: FutureWarning: Passing (type, 1) or '1type' as a synonym of type is deprecated; in a future version of numpy, it will be understood as (type, (1,)) / '(1,)type'.\n",
      "  _np_quint8 = np.dtype([(\"quint8\", np.uint8, 1)])\n",
      "E:\\ANACONDA\\envs\\python374\\lib\\site-packages\\tensorboard\\compat\\tensorflow_stub\\dtypes.py:543: FutureWarning: Passing (type, 1) or '1type' as a synonym of type is deprecated; in a future version of numpy, it will be understood as (type, (1,)) / '(1,)type'.\n",
      "  _np_qint16 = np.dtype([(\"qint16\", np.int16, 1)])\n",
      "E:\\ANACONDA\\envs\\python374\\lib\\site-packages\\tensorboard\\compat\\tensorflow_stub\\dtypes.py:544: FutureWarning: Passing (type, 1) or '1type' as a synonym of type is deprecated; in a future version of numpy, it will be understood as (type, (1,)) / '(1,)type'.\n",
      "  _np_quint16 = np.dtype([(\"quint16\", np.uint16, 1)])\n",
      "E:\\ANACONDA\\envs\\python374\\lib\\site-packages\\tensorboard\\compat\\tensorflow_stub\\dtypes.py:545: FutureWarning: Passing (type, 1) or '1type' as a synonym of type is deprecated; in a future version of numpy, it will be understood as (type, (1,)) / '(1,)type'.\n",
      "  _np_qint32 = np.dtype([(\"qint32\", np.int32, 1)])\n",
      "E:\\ANACONDA\\envs\\python374\\lib\\site-packages\\tensorboard\\compat\\tensorflow_stub\\dtypes.py:550: FutureWarning: Passing (type, 1) or '1type' as a synonym of type is deprecated; in a future version of numpy, it will be understood as (type, (1,)) / '(1,)type'.\n",
      "  np_resource = np.dtype([(\"resource\", np.ubyte, 1)])\n"
     ]
    }
   ],
   "source": [
    "import tensorflow as tf\n",
    "tf.logging.set_verbosity(tf.logging.WARN)\n",
    "import numpy as np\n",
    "import pandas as pd\n",
    "from decimal import Decimal\n",
    "from sklearn.model_selection import train_test_split\n",
    "from sklearn.preprocessing import StandardScaler\n",
    "\n",
    "#设置print格式\n",
    "np.set_printoptions(precision=3, suppress=True)\n",
    "np.set_printoptions(threshold=20)\n",
    "np.set_printoptions(formatter={'float': '{: 0.3f}'.format})\n",
    "pd.set_option('display.max_rows', 500)  #最大行数\n",
    "pd.set_option('display.max_columns', 500)    #最大列数\n",
    "pd.set_option('display.width', 4000)        #页面宽度\n",
    "\n",
    "def convert_num(x, fill=None):\n",
    "    x = str(x)\n",
    "    try:\n",
    "        res = Decimal(x)/ Decimal(10000)\n",
    "    except Exception:\n",
    "        res = fill if fill else np.NaN\n",
    "    return res\n",
    "\n",
    "#数据路径\n",
    "import os\n",
    "url_base = os.getcwd()"
   ]
  },
  {
   "cell_type": "code",
   "execution_count": 2,
   "metadata": {
    "pycharm": {
     "is_executing": true
    }
   },
   "outputs": [
    {
     "name": "stdout",
     "output_type": "stream",
     "text": [
      "(1048568, 78)\n",
      "(524284, 78)\n",
      "[1 1 1 ... 1 1 0]\n"
     ]
    }
   ],
   "source": [
    "#引入数据\n",
    "# /`CSE-CIC-IDS2018` all Data  \n",
    "url_data = f\"{url_base}/all.csv\"\n",
    "\n",
    "# info data (column names, col types)\n",
    "url_info = f\"{url_base}/all_names.names\"\n",
    "  \n",
    "# Import info data\n",
    "df_info = pd.read_csv(url_info, sep=\":\", skiprows=1, index_col=False, names=[\"colname\", \"type\"])\n",
    "\n",
    "colnames = df_info.colname.values\n",
    "coltypes = np.where(df_info[\"type\"].str.contains(\"continuous\"), \"float\", \"str\")\n",
    "# print(colnames)\n",
    "\n",
    "# Import data\n",
    "# 读取并且指定数据类型dtype,names指定列名\n",
    "df = pd.read_csv(url_data, names=colnames, index_col=False, dtype=dict(zip(colnames, coltypes)))\n",
    "\n",
    "# print(df)\n",
    "\n",
    "# Dumminize\n",
    "X = pd.get_dummies(df.iloc[:,:-1]).values\n",
    "print(np.shape(X))\n",
    "# print(X)\n",
    "# X1 = pd.get_dummies(df.iloc[:,:-1])\n",
    "# print(X1)\n",
    "\n",
    "for x1 in X:\n",
    "    if np.isinf(x1).any():\n",
    "        print(x1)\n",
    "        for i in range(len(str(x1))):\n",
    "            if np.isinf(x1[i]):\n",
    "                print(i)\n",
    "        # print(np.isinf(x1).any())\n",
    "\n",
    "# Create Traget Flag\n",
    "# Anomaly data when status is normal, Otherwise, Not anomaly.\n",
    "y = np.where(df.Label == \"BENIGN\", 1, 0)\n",
    "# print(y)\n",
    "\n",
    "# Split Data\n",
    "# 训练数据和测试数据对半开\n",
    "X_train, X_test, y_train, y_test = train_test_split(X, y, test_size=0.5, random_state=123)\n",
    "print(np.shape(X_train))\n",
    "print(y_test)"
   ]
  },
  {
   "cell_type": "code",
   "execution_count": 3,
   "metadata": {
    "pycharm": {
     "is_executing": true
    }
   },
   "outputs": [
    {
     "name": "stdout",
     "output_type": "stream",
     "text": [
      "(524284, 2)\n",
      "[[ 0.000  1.000]\n",
      " [ 0.000  1.000]\n",
      " [ 0.000  1.000]\n",
      " ...\n",
      " [ 0.000  1.000]\n",
      " [ 0.000  1.000]\n",
      " [ 1.000  0.000]]\n"
     ]
    },
    {
     "name": "stderr",
     "output_type": "stream",
     "text": [
      "E:\\ANACONDA\\envs\\python374\\lib\\site-packages\\sklearn\\externals\\joblib\\__init__.py:15: FutureWarning: sklearn.externals.joblib is deprecated in 0.21 and will be removed in 0.23. Please import this functionality directly from joblib, which can be installed with: pip install joblib. If this warning is raised when loading pickled models, you may need to re-serialize those models with scikit-learn 0.21+.\n",
      "  warnings.warn(msg, category=FutureWarning)\n"
     ]
    }
   ],
   "source": [
    "#数据预处理\n",
    "\n",
    "#标准化\n",
    "scaler = StandardScaler()\n",
    "X_soc = X_train\n",
    "X_soc_test = X_test\n",
    "X_train = scaler.fit_transform(X_train)\n",
    "X_test = scaler.transform(X_test)\n",
    "\n",
    "# 标准化模型保存\n",
    "from sklearn.externals import joblib\n",
    "joblib.dump(scaler, 'CSE-CIC-IDS2018_StandardScaler_01')\n",
    "\n",
    "X_train = np.reshape(X_train,[-1,78,1])\n",
    "X_test = np.reshape(X_test,[-1,78,1])\n",
    "\n",
    "# one_hot编码\n",
    "def dense_to_one_hot(labels_dense, num_classes):\n",
    "    \"\"\"Convert class labels from scalars to one-hot vectors.\"\"\"\n",
    "    num_labels = labels_dense.shape[0]\n",
    "    index_offset = np.arange(num_labels) * num_classes\n",
    "    labels_one_hot = np.zeros((num_labels, num_classes))\n",
    "    labels_one_hot.flat[index_offset+labels_dense.ravel()] = 1\n",
    "    return labels_one_hot\n",
    " \n",
    "num_classes  = 2\n",
    "one_hot_train = dense_to_one_hot(y_train,num_classes)\n",
    "one_hot_test = dense_to_one_hot(y_test,num_classes)\n",
    "print(one_hot_train.shape)\n",
    "print(one_hot_test)"
   ]
  },
  {
   "cell_type": "code",
   "execution_count": 4,
   "metadata": {
    "pycharm": {
     "is_executing": true
    }
   },
   "outputs": [
    {
     "name": "stdout",
     "output_type": "stream",
     "text": [
      "WARNING:tensorflow:From E:\\ANACONDA\\envs\\python374\\lib\\site-packages\\tensorflow\\python\\compat\\v2_compat.py:61: disable_resource_variables (from tensorflow.python.ops.variable_scope) is deprecated and will be removed in a future version.\n",
      "Instructions for updating:\n",
      "non-resource variables are not supported in the long term\n",
      "curses is not supported on this machine (please install/reinstall curses for an optimal experience)\n",
      "WARNING:tensorflow:From E:\\ANACONDA\\envs\\python374\\lib\\site-packages\\tflearn\\initializations.py:165: calling TruncatedNormal.__init__ (from tensorflow.python.ops.init_ops) with dtype is deprecated and will be removed in a future version.\n",
      "Instructions for updating:\n",
      "Call initializer instance with the dtype argument instead of passing it to the constructor\n",
      "WARNING:tensorflow:From E:\\ANACONDA\\envs\\python374\\lib\\site-packages\\tflearn\\layers\\core.py:247: calling dropout (from tensorflow.python.ops.nn_ops) with keep_prob is deprecated and will be removed in a future version.\n",
      "Instructions for updating:\n",
      "Please use `rate` instead of `keep_prob`. Rate should be set to `rate = 1 - keep_prob`.\n"
     ]
    }
   ],
   "source": [
    "#建立模型结构，就是几个全连接\n",
    "import tflearn\n",
    "from tflearn.layers.core import input_data, dropout, fully_connected\n",
    "from tflearn.layers.conv import conv_1d, max_pool_1d,global_max_pool\n",
    "from tflearn.layers.normalization import local_response_normalization\n",
    "from tflearn.layers.estimator import regression\n",
    "\n",
    "# Building convolutional network\n",
    "network = input_data(shape=[None,78,1], name='input')\n",
    "# network = fully_connected(network, 64, activation='tanh')\n",
    "network = fully_connected(network, 32, activation='tanh')\n",
    "network = fully_connected(network, 10, activation='tanh')\n",
    "network = dropout(network, 0.5)\n",
    "\n",
    "network = fully_connected(network, 2, activation='softmax')\n",
    "network = regression(network, optimizer='adam', learning_rate=0.01,\n",
    "                     loss='categorical_crossentropy', name='target')"
   ]
  },
  {
   "cell_type": "code",
   "execution_count": 5,
   "metadata": {
    "pycharm": {
     "is_executing": true
    }
   },
   "outputs": [
    {
     "name": "stdout",
     "output_type": "stream",
     "text": [
      "Training Step: 16383  | total loss: \u001b[1m\u001b[32m0.06220\u001b[0m\u001b[0m | time: 30.533s\n",
      "| Adam | epoch: 002 | loss: 0.06220 - acc: 0.9882 -- iter: 524224/524284\n",
      "Training Step: 16384  | total loss: \u001b[1m\u001b[32m0.05832\u001b[0m\u001b[0m | time: 37.354s\n",
      "| Adam | epoch: 002 | loss: 0.05832 - acc: 0.9894 | val_loss: 0.02104 - val_acc: 0.9950 -- iter: 524284/524284\n",
      "--\n"
     ]
    }
   ],
   "source": [
    "# Training\n",
    "model = tflearn.DNN(network, tensorboard_verbose=0)\n",
    "model.fit({'input': X_train}, {'target': one_hot_train}, n_epoch=2,\n",
    "          validation_set=({'input': X_test}, {'target': one_hot_test}),\n",
    "          show_metric=True, run_id='dnn_demo')"
   ]
  },
  {
   "cell_type": "code",
   "execution_count": null,
   "metadata": {
    "pycharm": {
     "is_executing": true
    }
   },
   "outputs": [],
   "source": [
    "#提取tflearn生成会话中的变量\n",
    "\n",
    "input_ = model.session.graph.get_tensor_by_name('input/X:0')\n",
    "output_ = model.session.graph.get_tensor_by_name('FullyConnected_2/BiasAdd:0')\n",
    "softmax_ = model.session.graph.get_tensor_by_name('FullyConnected_2/Softmax:0')\n",
    "target_ = model.session.graph.get_tensor_by_name('target/Y:0')\n",
    "#构造损失函数\n",
    "loss_ = tf.nn.softmax_cross_entropy_with_logits(logits=softmax_, labels=target_)#output_\n",
    "#loss梯度\n",
    "gradw, = tf.gradients(loss_,input_)\n",
    "\n",
    "print(gradw)\n",
    "#向前梯度\n",
    "derivative, = tf.gradients(output_[0,1], input_)"
   ]
  },
  {
   "cell_type": "code",
   "execution_count": null,
   "metadata": {
    "pycharm": {
     "is_executing": true
    }
   },
   "outputs": [],
   "source": [
    "#将生成的对抗样本合法化\n",
    "def x1_transform(x1):\n",
    "    x1 = scaler.inverse_transform(x1)\n",
    "    x1x = []\n",
    "    x1x1 = np.float32(x1[0])\n",
    "    x1x  =  np.append(x1x,x1x1)\n",
    "    x1x = np.around(x1x, decimals=2)\n",
    "    x1 = scaler.transform(np.reshape(x1x,[1,78]))\n",
    "    return x1,x1x\n",
    "\n",
    "    #x1是归一化的，x1x才是生成对抗样本"
   ]
  },
  {
   "cell_type": "code",
   "execution_count": null,
   "metadata": {
    "pycharm": {
     "is_executing": true
    }
   },
   "outputs": [],
   "source": [
    "def Deepfool(sample_n): \n",
    "    targets = [0,1]\n",
    "    sample = np.array(X_train[sample_n:sample_n+1])\n",
    "    x1 = np.reshape(sample,[1,78])\n",
    "    # print(x1)\n",
    "    \n",
    "    #最大最小值\n",
    "    x1_d = np.min(X_soc,axis=0)\n",
    "    x1_u = np.max(X_soc,axis=0)\n",
    "    \n",
    "    #初始参数\n",
    "    r_tot = np.zeros([1,78])\n",
    "    # c = np.zeros(x1.shape[1]-34)\n",
    "\n",
    "    for epoch in range(100):\n",
    "        #计算梯度\n",
    "        x_ = np.reshape(x1,[-1,78,1])\n",
    "        y1,_,gg_ = model.session.run([softmax_,loss_,gradw],{input_:x_,target_:[targets]})\n",
    "\n",
    "        if np.argmax(y1) == np.argmax(targets):\n",
    "            #如果生成了对抗样本。\n",
    "            \n",
    "            x1,x1x = x1_transform(x1)\n",
    "            #将生成的对抗样本合法化\n",
    "            \n",
    "            x_ = np.reshape(x1,[-1,78,1])\n",
    "            y1,_,gg_ = model.session.run([softmax_,loss_,gradw],{input_:x_,target_:[targets]})\n",
    "                      \n",
    "            if np.argmax(y1) == np.argmax(targets):\n",
    "                #如果生成的对抗样本合法化后依然是对抗样本。\n",
    "                \n",
    "                d_d = x1x-X_soc_test[sample_n]\n",
    "                # print(d_d)\n",
    "                L0 = np.linalg.norm(d_d,ord=0)\n",
    "                print('\\nL0=',L0)\n",
    "                break #生成成功退出循环\n",
    "                \n",
    "                \n",
    "        #用deepflow的方式计算更改样本\n",
    "        gg=[]\n",
    "        \n",
    "        #gg = np.append(gg_[0][0:78],c)\n",
    "        gg = gg_[0][0:78]\n",
    "        gg = np.reshape(gg,[1,78])\n",
    "        pert = np.abs(y1[0][np.argmax(targets)])/np.linalg.norm(gg)\n",
    "        r_i = (pert+1e-8) * gg/np.linalg.norm(gg)\n",
    "        r_tot = np.float32(r_tot+r_i)\n",
    "        x1 = x1-1.1*r_tot\n",
    "        \n",
    "        \n",
    "        #对x1的特征进行一个限制，限制在所有样本最大值内。\n",
    "        x1 = scaler.inverse_transform(x1)\n",
    "        x1x = []\n",
    "        for i in range(78):\n",
    "            x1x1 = np.float32(np.clip(x1[0][i:i+1],x1_d[i],x1_u[i]))\n",
    "            x1x  =  np.append(x1x,x1x1)\n",
    "        x1  = np.reshape(x1x,[1,78])\n",
    "        x1 = scaler.transform(np.reshape(x1x,[1,78]))\n",
    "        \n",
    "    if epoch == 99:\n",
    "        print('对抗样本生成失败，迭代次数 =',epoch, '\\n')\n",
    "        return False\n",
    "    else:\n",
    "        print('对抗样本生成成功，迭代次数 =',epoch,' , L0 =',L0, '\\n')\n",
    "        return x1x"
   ]
  },
  {
   "cell_type": "code",
   "execution_count": null,
   "metadata": {
    "pycharm": {
     "is_executing": true
    }
   },
   "outputs": [],
   "source": [
    "#实现saliency_map\n",
    "def saliency_map(derivative, mask):\n",
    "        mask = np.reshape(mask,[78])\n",
    "        #print('mask',mask[0],mask[0,21,0])\n",
    "        alphas = derivative * mask\n",
    "        \n",
    "        # pixel influence on sum of residual classes\n",
    "        betas = -np.ones_like(alphas)\n",
    "        \n",
    "        sal_map = np.abs(alphas) * np.abs(betas) * np.sign(alphas * betas)\n",
    "        # find optimal pixel & direction of perturbation\n",
    "        #print(sal_map*1000)\n",
    "        ''''''\n",
    "        for sa in range(len(sal_map)):\n",
    "            if mask[sa] ==0:\n",
    "                sal_map[sa] = float(\"inf\")#10000#\n",
    "        # print(sal_map.shape)\n",
    "                    \n",
    "        idx = np.argmin(sal_map)\n",
    "        #print('sal_map=', sal_map)\n",
    "        #转换成(p1,p2)格式      \n",
    "        idx = np.unravel_index(idx, sal_map.shape)\n",
    "        pix_sign = np.sign(alphas)[idx]\n",
    "        \n",
    "        return idx[1], pix_sign"
   ]
  },
  {
   "cell_type": "code",
   "execution_count": null,
   "metadata": {
    "pycharm": {
     "is_executing": true
    }
   },
   "outputs": [],
   "source": [
    "def JSMA(sample_n):\n",
    "    targets = [0,1]\n",
    "    sample = np.array(X_train[sample_n:sample_n+1])\n",
    "    x1 = np.reshape(sample,[1,78])\n",
    "    #print(x1)\n",
    "    \n",
    "    mask = np.ones_like(x1)\n",
    "    #最大最小值\n",
    "    x1_d = np.min(X_soc,axis=0)\n",
    "    x1_u = np.max(X_soc,axis=0)\n",
    "    #定义边界\n",
    "    max_=scaler.transform([x1_u])\n",
    "    min_=scaler.transform([x1_d])\n",
    "    max_ = np.reshape(max_,[78])\n",
    "    min_ = np.reshape(min_,[78])\n",
    "\n",
    "    # c = np.zeros(x1.shape[1]-34)\n",
    "    L0 = 0\n",
    "\n",
    "    for epoch in range(100):\n",
    "\n",
    "        x_ = np.reshape(x1,[-1,78,1])\n",
    "        y1,loss1,gg_,d = model.session.run([softmax_,loss_,gradw,derivative],{input_:x_,target_:[targets]})\n",
    "        \n",
    "        if np.argmax(y1) == np.argmax(targets):\n",
    "            x1,x1x = x1_transform(x1)\n",
    "            #将生成的对抗样本合法化\n",
    "\n",
    "            x1 = scaler.transform(np.reshape(x1x,[1,78]))\n",
    "            x_ = np.reshape(x1,[-1,78,1])\n",
    "            y1,loss1,gg_ = model.session.run([softmax_,loss_,gradw],{input_:x_,target_:[targets]})\n",
    "\n",
    "            if np.argmax(y1) == np.argmax(targets):\n",
    "                #如果生成的对抗样本合法化后依然是对抗样本。\n",
    "                d_d = x1x-X_soc_test[sample_n]\n",
    "                L0 = np.linalg.norm(d_d,ord=0)\n",
    "                print('\\nL0=',L0)\n",
    "                break#生成成功退出循环\n",
    "    \n",
    "    \n",
    "        #JSMA更新样本\n",
    "        gg=[]\n",
    "        # gg = np.append(d[0][0:34],c)\n",
    "        gg = d[0][0:78]\n",
    "        idx, pix_sign=saliency_map(gg, mask)\n",
    "        # print(idx, pix_sign, x1.shape)\n",
    "        x1 = np.reshape(x1,[78])\n",
    "        x1[idx]+=pix_sign * 0.1 * (max_[idx] - min_[idx]) \n",
    "        \n",
    "        #达到极限的点不再参与更新\n",
    "        if (x1[idx]<=min_[idx]) or (x1[idx]>=max_[idx]):\n",
    "            mask[0][idx]=0\n",
    "            x1[idx]=np.clip(x1[idx], min_[idx], max_[idx])\n",
    "        \n",
    "        #对x1的特征进行一个限制，限制在所有样本最大值内。\n",
    "        x1 = np.reshape(x1,[1,78])\n",
    "        x1 = scaler.inverse_transform(x1)\n",
    "        x1x = []\n",
    "        for i in range(78):\n",
    "            x1x1 = np.float32(np.clip(x1[0][i:i+1],x1_d[i],x1_u[i]))\n",
    "            x1x  =  np.append(x1x,x1x1)\n",
    "        x1  = np.reshape(x1x,[1,78])\n",
    "        x1 = scaler.transform(np.reshape(x1x,[1,78]))\n",
    "\n",
    "    if epoch == 99:\n",
    "        print('对抗样本生成失败，迭代次数 =',epoch, '\\n')\n",
    "        return False\n",
    "    else:\n",
    "        print('对抗样本生成成功，迭代次数 =',epoch,' , L0 =',L0, '\\n')\n",
    "        return x1x"
   ]
  },
  {
   "cell_type": "code",
   "execution_count": null,
   "metadata": {
    "pycharm": {
     "is_executing": true
    }
   },
   "outputs": [],
   "source": [
    "def FGSM(sample_n, max_iter=5):\n",
    "    # 选择样本并且转换\n",
    "    targets = [0,1]\n",
    "    sample = np.array(X_train[sample_n:sample_n+1])\n",
    "    x1 = np.reshape(sample,[1,78])\n",
    "\n",
    "    # 每列最大最小值\n",
    "    x1_d = np.min(X_soc, axis=0)\n",
    "    x1_u = np.max(X_soc, axis=0)\n",
    "    \n",
    "    for epoch in range(max_iter):\n",
    "        #计算梯度\n",
    "        x_ = np.reshape(x1,[-1,78,1])\n",
    "        # 用x_替换input_生成新的数据\n",
    "        y1,_,gg_ = model.session.run([softmax_,loss_,gradw],{input_:x_,target_:[targets]})\n",
    "        \n",
    "        if np.argmax(y1) == np.argmax(targets):\n",
    "            #如果生成了对抗样本。\n",
    "            x1,x1x = x1_transform(x1)\n",
    "            #将生成的对抗样本合法化\n",
    "            x_ = np.reshape(x1,[-1,78,1])\n",
    "            y1,_,gg_ = model.session.run([softmax_,loss_,gradw],{input_:x_,target_:[targets]})\n",
    "            \n",
    "            if np.argmax(y1) == np.argmax(targets):\n",
    "                #如果生成的对抗样本合法化后依然是对抗样本。\n",
    "                d_d = x1x-X_soc_test[sample_n]\n",
    "                # print(d_d)\n",
    "                L0 = np.linalg.norm(d_d,ord=0)\n",
    "                print('\\nL0=',L0)\n",
    "                break #生成成功退出循环\n",
    "\n",
    "            \n",
    "        # 计算更改样本\n",
    "        #  x1 = x1 + 1.1*signed_grad\n",
    "        gg = []\n",
    "        gg = gg_[0][0:78]\n",
    "        gg = np.reshape(gg,[1,78])\n",
    "        perb = np.sign(gg)\n",
    "        x1 = x1 + 2 * perb\n",
    "\n",
    "        # 对x1的特征进行一个限制，限制在所有样本最大值内\n",
    "        x1 = scaler.inverse_transform(x1)\n",
    "        x1x = []\n",
    "        for i in range(78):\n",
    "            x1x1 = np.float32(np.clip(x1[0][i:i+1],x1_d[i],x1_u[i]))\n",
    "            x1x  =  np.append(x1x,x1x1)  \n",
    "        x1  = np.reshape(x1x,[1,78])\n",
    "        x1 = scaler.transform(np.reshape(x1x,[1,78]))\n",
    "\n",
    "    if epoch == 4:\n",
    "        print('对抗样本生成失败，迭代次数 =',epoch, '\\n')\n",
    "        return False\n",
    "    else:\n",
    "        print('对抗样本生成成功，迭代次数 =',epoch,' , L0 =',L0, '\\n')\n",
    "        return x1x\n"
   ]
  },
  {
   "cell_type": "code",
   "execution_count": null,
   "metadata": {
    "pycharm": {
     "is_executing": true
    }
   },
   "outputs": [],
   "source": [
    "def Gen_baleful_examples(ad_func, start_num, end_num=None):\n",
    "    \n",
    "    positive = np.int32(np.where(y_train==1)).reshape(-1)#正样本位置\n",
    "    negative = np.int32(np.where(y_train==0)).reshape(-1)#负样本位置\n",
    "    #输入负样本的位置，生成对抗样本。不是所有样本都能生成对抗样本，大部分可以。\n",
    "    # print(negative)\n",
    "    \n",
    "    if end_num == None:\n",
    "        end_num = start_num\n",
    "        \n",
    "    ae_list = [] \n",
    "    print(ad_func)\n",
    "    nums = 0\n",
    "    t_num = 0\n",
    "    for i in range(start_num, end_num):\n",
    "        \n",
    "        if nums >= 10000:\n",
    "            break\n",
    "            \n",
    "        pos = negative[i]\n",
    "        test_x = X_soc[pos].reshape(78,)\n",
    "        ae = ad_func(pos)    \n",
    "        \n",
    "        if type(ae) is np.ndarray:\n",
    "            ae_list.append(ae)\n",
    "            nums+=1\n",
    "\n",
    "        else:\n",
    "            # print(\"对抗失败的负样本位置\", i)\n",
    "            pass\n",
    "        t_num += 1\n",
    "    if end_num != start_num:\n",
    "        print('生成率：{:.2%}'.format(len(ae_list) / (t_num)))\n",
    "        \n",
    "    return ae_list\n",
    "    \n",
    "import time\n",
    "start = time.time()\n",
    "ae_list = Gen_baleful_examples(Deepfool, start_num=0, end_num=100000)\n",
    "end = time.time()\n",
    "print (end - start)"
   ]
  },
  {
   "cell_type": "code",
   "execution_count": null,
   "metadata": {},
   "outputs": [],
   "source": [
    "import matplotlib.pyplot as plt\n",
    "\n",
    "def normalization2gray(data):\n",
    "    _range = np.max(data) - np.min(data)\n",
    "    return 255 * (data - np.min(data)) / _range\n",
    "\n",
    "def save_png(sample):\n",
    "\n",
    "    # 归一化\n",
    "    npy = normalization2gray(sample)\n",
    "    # 四舍五入取整\n",
    "    img = np.rint(npy)\n",
    "    # print(img)\n",
    "    # 变形\n",
    "    img = img.reshape((9, 9))\n",
    "    # print(img)\n",
    "    \n",
    "    # 展示图片\n",
    "#     plt.imshow(img, cmap='gray')\n",
    "#     plt.show()\n",
    "\n",
    "    return img \n",
    "    "
   ]
  },
  {
   "cell_type": "code",
   "execution_count": null,
   "metadata": {},
   "outputs": [],
   "source": [
    "# 批量保存产生的对抗样本\n",
    "def save_examples(ae_list, save_dir, ad_func_name):\n",
    "    # print(sample.shape)\n",
    "    \n",
    "    if not os.path.exists(save_dir):\n",
    "        os.mkdir(save_dir)\n",
    "        \n",
    "    info_txt = open(os.path.join(save_dir, f\"{ad_func_name}-baleful.txt\"), 'w')\n",
    "    # 以恶意样本为原本生成对抗样本\n",
    "    for i in range(len(ae_list)):\n",
    "        \n",
    "        # 位置信息保存\n",
    "        png_path = os.path.join(save_dir, f\"{ad_func_name}-baleful-{i}.png\")\n",
    "        info_str = f'{png_path} 0\\n' # 0代表 baleful恶意样本\n",
    "        info_txt.write(info_str)    \n",
    "        \n",
    "        # npy格式对抗样本\n",
    "        ae = ae_list[i]\n",
    "        sample = np.append(ae, [0, 0, 0])\n",
    "        \n",
    "        # 转换成img格式\n",
    "        img = save_png(sample)\n",
    "        \n",
    "        # 保存图片\n",
    "        plt.imsave(png_path, img, cmap='gray')\n",
    "        \n",
    "    info_txt.close()     \n",
    "    print('Save Finish！')\n",
    "    \n",
    "# save_examples(ae_list,'.\\DeepFool_pngs', 'Deepfool')\n",
    "np.save(\".\\DeepFool_1w.npy\", ae_list)\n",
    "print(\"save .npy done\")"
   ]
  },
  {
   "cell_type": "code",
   "execution_count": null,
   "metadata": {},
   "outputs": [],
   "source": [
    "negative = np.int32(np.where(y_train==0)).reshape(-1)#负样本位置\n",
    "print('negative',negative,len(str(negative)),negative.shape)"
   ]
  },
  {
   "cell_type": "code",
   "execution_count": null,
   "metadata": {
    "pycharm": {
     "is_executing": true
    }
   },
   "outputs": [],
   "source": [
    "def view_sample(sample):\n",
    "    \"\"\"\n",
    "    epoch代表第几次迭代的图像\n",
    "    sample为我们的采样结果\n",
    "    \"\"\"\n",
    "    fig, axes = plt.subplots(figsize=(9,9), nrows=1, ncols=1, sharey=True, sharex=True)\n",
    "    ax = axes\n",
    "    img = sample # 这里sample代表生成的图像结果\n",
    "    ax.xaxis.set_visible(False)\n",
    "    ax.yaxis.set_visible(False)\n",
    "    im = ax.imshow(img.reshape((9,9)), cmap='Greys_r')\n",
    "    \n",
    "    return fig, axes"
   ]
  },
  {
   "cell_type": "code",
   "execution_count": null,
   "metadata": {
    "pycharm": {
     "is_executing": true
    }
   },
   "outputs": [],
   "source": [
    "ae = ae_list[0]\n",
    "sample = np.append(ae, [0,0,0])\n",
    "view_sample(sample)"
   ]
  },
  {
   "cell_type": "code",
   "execution_count": null,
   "metadata": {
    "pycharm": {
     "is_executing": true
    }
   },
   "outputs": [],
   "source": [
    "# 复制过来的结果\n",
    "\n",
    "#原始恶意样本\n",
    "se = [57420.0 ,1718.0 ,6.0 ,43.0 ,1.0 ,1.0 ,0.0 ,6.0 ,0.0 ,0.0 ,0.0 ,0.0 ,6.0 ,6.0 ,6.0 ,0.0 ,43.0 ,0.0 ,43.0 ,43.0 ,0.0 ,0.0 ,0.0 ,0.0 ,0.0 ,0.0 ,0.0 ,0.0 ,0.0 ,0.0 ,0.0 ,0.0 ,0.0 ,0.0 ,40.0 ,20.0 ,23255.81395 ,23255.81395 ,0.0 ,6.0 ,2.0 ,3.464101615 ,12.0 ,0.0 ,0.0 ,0.0 ,1.0 ,0.0 ,0.0 ,0.0 ,0.0 ,1.0 ,3.0 ,0.0 ,6.0 ,40.0 ,0.0 ,0.0 ,0.0 ,0.0 ,0.0 ,0.0 ,1.0 ,0.0 ,1.0 ,6.0 ,29200.0 ,0.0 ,0.0 ,40.0 ,0.0 ,0.0 ,0.0 ,0.0 ,0.0 ,0.0 ,0.0 ,0.0]\n",
    "\n",
    "# 由DeepFool白盒攻击算法生成的恶意对抗样本\n",
    "deepfool_ae = [65535.0 ,0.0 ,7.64 ,7907271.5 ,79.33 ,1674.26 ,3000.83 ,331326.97 ,376.95 ,0.0 ,64.42 ,111.8 ,232.84 ,11.66 ,129.99 ,0.0 ,-13.0 ,0.0 ,4333376.5 ,2078429.0 ,5820347.0 ,1387770.62 ,0.0 ,3090121.5 ,3410977.25 ,1358718.38 ,1473928.0 ,183327.69 ,1060969.5 ,1546550.5 ,0.02 ,0.0 ,0.0 ,0.0 ,1799528.0 ,390757.16 ,131820.67 ,0.0 ,0.0 ,111.86 ,1.15 ,0.0 ,0.0 ,0.0 ,0.02 ,0.0 ,0.86 ,0.0 ,0.06 ,0.0 ,0.0 ,0.69 ,0.0 ,66.03 ,122.1 ,1784553.75 ,0.0 ,0.0 ,0.0 ,0.0 ,0.0 ,0.0 ,84.91 ,3007.71 ,1677.15 ,326482.81 ,32786.21 ,6592.64 ,0.0 ,60.0 ,51610.84 ,5918.59 ,24319.35 ,12805.21 ,1018882.62 ,0.0 ,1241427.5 ,844242.06]\n",
    "\n",
    "# 由FGSM白盒攻击算法生成的恶意对抗样本\n",
    "fgsm_ae = [59529.0 ,8007.0 ,9.96 ,60429088.0 ,1434.51 ,1913.51 ,11051.29 ,8458395.0 ,1946.59 ,324.95 ,510.61 ,798.5 ,8383.31 ,6.0 ,1304.76 ,3820.12 ,-13.0 ,0.0 ,35722104.0 ,5796347.0 ,60203112.0 ,18682142.0 ,0.0 ,36126660.0 ,17840556.0 ,109838048.0 ,17915184.0 ,15971842.0 ,27321182.0 ,17383810.0 ,0.0 ,0.0 ,0.0 ,0.0 ,24.06 ,19.98 ,806732.81 ,184654.31 ,93.42 ,8987.46 ,1380.91 ,2961.9 ,5.53 ,0.35 ,0.0 ,0.0 ,1.0 ,0.0 ,0.53 ,0.0 ,0.0 ,1.65 ,1526.18 ,510.61 ,2615.52 ,24.06 ,0.0 ,0.0 ,0.0 ,0.0 ,0.0 ,0.0 ,1434.51 ,11051.29 ,1913.51 ,8458037.0 ,65535.0 ,15994.84 ,0.0 ,24.02 ,0.0 ,1487122.88 ,0.0 ,0.0 ,31073712.0 ,0.0 ,35185872.0 ,29279670.0]\n",
    "\n",
    "# 由JSMA白盒攻击算法生成的恶意对抗样本\n",
    "jsmas_ae = [65535.0 ,65534.0 ,12.8 ,43.0 ,1.0 ,1.0 ,0.0 ,6.0 ,0.0 ,0.0 ,0.0 ,0.0 ,6.0 ,6.0 ,6.0 ,0.0 ,43.0 ,0.0 ,43.0 ,43.0 ,0.0 ,0.0 ,0.0 ,0.0 ,0.0 ,0.0 ,0.0 ,0.0 ,-0.0 ,0.0 ,0.0 ,0.0 ,0.0 ,0.0 ,40.0 ,20.0 ,23255.81 ,23255.81 ,0.0 ,6.0 ,2.0 ,3.46 ,12.0 ,0.0 ,0.0 ,0.0 ,1.0 ,0.0 ,0.0 ,0.0 ,0.0 ,1.0 ,3.0 ,0.0 ,6.0 ,40.0 ,0.0 ,0.0 ,0.0 ,0.0 ,0.0 ,0.0 ,1.0 ,0.0 ,1.0 ,6.0 ,29200.0 ,0.0 ,0.0 ,40.0 ,0.0 ,0.0 ,0.0 ,0.0 ,0.0 ,0.0 ,0.0 ,0.0]\n",
    "\n",
    "#由GAN训练恶意对抗样本生成的恶意对抗样本\n",
    "gan_ae = [65467.08, 0.0, 17.0, 37.07, 1.0, 0.0, 0.0, 0.0, 0.0, 26.93, 0.59, 0.0, 30.89, 62.34, 23.96, 0.0, -13.0, 0.0, -5.85, -13.0, 0.0, 0.0, 0.0, 3.58, 0.0, 96.56, 0.0, 17067.28, 21.46, 0.0, 0.0, 0.0, 0.0, 0.0, 0.0, 0.0, 83175.84, 136.55, 27.13, 1.37, 49.49, 0.21, 0.0, 0.0, 0.0, 0.0, 0.0, 0.0, 0.0, 0.0, 0.0, 0.94, 224.44, 0.57, 89.26, 0.0, 0.0, 0.0, 0.0, 0.0, 0.0, 0.0, 1.0, 1.43, 0.0, 521.33, -1.0, -1.0, 0.0, 13.33, 0.0, 0.0, 0.0, 0.0, 0.0, 0.0, 0.0, 3.58]"
   ]
  },
  {
   "cell_type": "code",
   "execution_count": null,
   "metadata": {
    "pycharm": {
     "is_executing": true
    }
   },
   "outputs": [],
   "source": [
    "# 从结果中可以看到由白盒攻击算法生成的恶意对抗样本 和 由GAN训练恶意对抗样本生成的恶意对抗样本都被白盒检测系统认定为正常，说明攻击成功\n",
    "\n",
    "def predict_rate(ae):\n",
    "    # 数据处理\n",
    "    ae = np.reshape(se, (1,78))\n",
    "    ae = scaler.transform(ae)\n",
    "    ae = np.reshape(se, (78,1))\n",
    "\n",
    "    # 模型预测\n",
    "    ae_pred = model.predict([ae])\n",
    "    print('恶意样本/正常样本可能性')\n",
    "    print(ae_pred[0])\n",
    "\n",
    "    \n",
    "sample = ae_list[0] \n",
    "predict_rate(sample)"
   ]
  },
  {
   "cell_type": "code",
   "execution_count": 10,
   "metadata": {
    "pycharm": {
     "is_executing": true
    }
   },
   "outputs": [
    {
     "name": "stdout",
     "output_type": "stream",
     "text": [
      "平均欺骗率：99.74%\n"
     ]
    }
   ],
   "source": [
    "ae_list = np.load('.\\wpgan-gp_1b.npy')\n",
    "\n",
    "def Avg_predict_rate(ae_list):\n",
    "    lens = len(ae_list)\n",
    "    ae_list = np.reshape(ae_list, [lens, 78])\n",
    "    ae_list = scaler.transform(ae_list)\n",
    "    ae_list = np.reshape(ae_list, [lens, 78,1])\n",
    "    ae_pred = model.predict(ae_list)\n",
    "\n",
    "    avarage = 0\n",
    "    for i in ae_pred:\n",
    "        avarage += i[1]\n",
    "    \n",
    "    rate = avarage / lens\n",
    "    print(\"平均欺骗率：{:.2%}\".format(rate))\n",
    "\n",
    "Avg_predict_rate(ae_list)"
   ]
  },
  {
   "cell_type": "code",
   "execution_count": null,
   "metadata": {},
   "outputs": [],
   "source": []
  }
 ],
 "metadata": {
  "interpreter": {
   "hash": "5f7471677c3eccb4f7f87eeadc33cee708012785cef252896dc4f780e13ed304"
  },
  "kernelspec": {
   "display_name": "Python 3 (ipykernel)",
   "language": "python",
   "name": "python3"
  },
  "language_info": {
   "codemirror_mode": {
    "name": "ipython",
    "version": 3
   },
   "file_extension": ".py",
   "mimetype": "text/x-python",
   "name": "python",
   "nbconvert_exporter": "python",
   "pygments_lexer": "ipython3",
   "version": "3.7.4"
  },
  "varInspector": {
   "cols": {
    "lenName": 16,
    "lenType": 16,
    "lenVar": 40
   },
   "kernels_config": {
    "python": {
     "delete_cmd_postfix": "",
     "delete_cmd_prefix": "del ",
     "library": "var_list.py",
     "varRefreshCmd": "print(var_dic_list())"
    },
    "r": {
     "delete_cmd_postfix": ") ",
     "delete_cmd_prefix": "rm(",
     "library": "var_list.r",
     "varRefreshCmd": "cat(var_dic_list()) "
    }
   },
   "oldHeight": 470,
   "position": {
    "height": "40px",
    "left": "1201.66px",
    "right": "20px",
    "top": "-7px",
    "width": "664px"
   },
   "types_to_exclude": [
    "module",
    "function",
    "builtin_function_or_method",
    "instance",
    "_Feature"
   ],
   "varInspector_section_display": "none",
   "window_display": true
  }
 },
 "nbformat": 4,
 "nbformat_minor": 2
}
