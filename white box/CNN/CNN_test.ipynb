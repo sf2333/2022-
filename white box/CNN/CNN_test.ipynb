{
 "cells": [
  {
   "cell_type": "code",
   "execution_count": 1,
   "id": "e284b659",
   "metadata": {},
   "outputs": [
    {
     "name": "stderr",
     "output_type": "stream",
     "text": [
      "E:\\ANACONDA\\envs\\python374\\lib\\site-packages\\tensorflow\\python\\framework\\dtypes.py:516: FutureWarning: Passing (type, 1) or '1type' as a synonym of type is deprecated; in a future version of numpy, it will be understood as (type, (1,)) / '(1,)type'.\n",
      "  _np_qint8 = np.dtype([(\"qint8\", np.int8, 1)])\n",
      "E:\\ANACONDA\\envs\\python374\\lib\\site-packages\\tensorflow\\python\\framework\\dtypes.py:517: FutureWarning: Passing (type, 1) or '1type' as a synonym of type is deprecated; in a future version of numpy, it will be understood as (type, (1,)) / '(1,)type'.\n",
      "  _np_quint8 = np.dtype([(\"quint8\", np.uint8, 1)])\n",
      "E:\\ANACONDA\\envs\\python374\\lib\\site-packages\\tensorflow\\python\\framework\\dtypes.py:518: FutureWarning: Passing (type, 1) or '1type' as a synonym of type is deprecated; in a future version of numpy, it will be understood as (type, (1,)) / '(1,)type'.\n",
      "  _np_qint16 = np.dtype([(\"qint16\", np.int16, 1)])\n",
      "E:\\ANACONDA\\envs\\python374\\lib\\site-packages\\tensorflow\\python\\framework\\dtypes.py:519: FutureWarning: Passing (type, 1) or '1type' as a synonym of type is deprecated; in a future version of numpy, it will be understood as (type, (1,)) / '(1,)type'.\n",
      "  _np_quint16 = np.dtype([(\"quint16\", np.uint16, 1)])\n",
      "E:\\ANACONDA\\envs\\python374\\lib\\site-packages\\tensorflow\\python\\framework\\dtypes.py:520: FutureWarning: Passing (type, 1) or '1type' as a synonym of type is deprecated; in a future version of numpy, it will be understood as (type, (1,)) / '(1,)type'.\n",
      "  _np_qint32 = np.dtype([(\"qint32\", np.int32, 1)])\n",
      "E:\\ANACONDA\\envs\\python374\\lib\\site-packages\\tensorflow\\python\\framework\\dtypes.py:525: FutureWarning: Passing (type, 1) or '1type' as a synonym of type is deprecated; in a future version of numpy, it will be understood as (type, (1,)) / '(1,)type'.\n",
      "  np_resource = np.dtype([(\"resource\", np.ubyte, 1)])\n"
     ]
    },
    {
     "name": "stdout",
     "output_type": "stream",
     "text": [
      "WARNING:tensorflow:From E:\\ANACONDA\\envs\\python374\\lib\\site-packages\\tensorflow\\python\\compat\\v2_compat.py:61: disable_resource_variables (from tensorflow.python.ops.variable_scope) is deprecated and will be removed in a future version.\n",
      "Instructions for updating:\n",
      "non-resource variables are not supported in the long term\n",
      "curses is not supported on this machine (please install/reinstall curses for an optimal experience)\n"
     ]
    },
    {
     "name": "stderr",
     "output_type": "stream",
     "text": [
      "E:\\ANACONDA\\envs\\python374\\lib\\site-packages\\tensorboard\\compat\\tensorflow_stub\\dtypes.py:541: FutureWarning: Passing (type, 1) or '1type' as a synonym of type is deprecated; in a future version of numpy, it will be understood as (type, (1,)) / '(1,)type'.\n",
      "  _np_qint8 = np.dtype([(\"qint8\", np.int8, 1)])\n",
      "E:\\ANACONDA\\envs\\python374\\lib\\site-packages\\tensorboard\\compat\\tensorflow_stub\\dtypes.py:542: FutureWarning: Passing (type, 1) or '1type' as a synonym of type is deprecated; in a future version of numpy, it will be understood as (type, (1,)) / '(1,)type'.\n",
      "  _np_quint8 = np.dtype([(\"quint8\", np.uint8, 1)])\n",
      "E:\\ANACONDA\\envs\\python374\\lib\\site-packages\\tensorboard\\compat\\tensorflow_stub\\dtypes.py:543: FutureWarning: Passing (type, 1) or '1type' as a synonym of type is deprecated; in a future version of numpy, it will be understood as (type, (1,)) / '(1,)type'.\n",
      "  _np_qint16 = np.dtype([(\"qint16\", np.int16, 1)])\n",
      "E:\\ANACONDA\\envs\\python374\\lib\\site-packages\\tensorboard\\compat\\tensorflow_stub\\dtypes.py:544: FutureWarning: Passing (type, 1) or '1type' as a synonym of type is deprecated; in a future version of numpy, it will be understood as (type, (1,)) / '(1,)type'.\n",
      "  _np_quint16 = np.dtype([(\"quint16\", np.uint16, 1)])\n",
      "E:\\ANACONDA\\envs\\python374\\lib\\site-packages\\tensorboard\\compat\\tensorflow_stub\\dtypes.py:545: FutureWarning: Passing (type, 1) or '1type' as a synonym of type is deprecated; in a future version of numpy, it will be understood as (type, (1,)) / '(1,)type'.\n",
      "  _np_qint32 = np.dtype([(\"qint32\", np.int32, 1)])\n",
      "E:\\ANACONDA\\envs\\python374\\lib\\site-packages\\tensorboard\\compat\\tensorflow_stub\\dtypes.py:550: FutureWarning: Passing (type, 1) or '1type' as a synonym of type is deprecated; in a future version of numpy, it will be understood as (type, (1,)) / '(1,)type'.\n",
      "  np_resource = np.dtype([(\"resource\", np.ubyte, 1)])\n"
     ]
    }
   ],
   "source": [
    "import tflearn\n",
    "from tflearn.layers.core import input_data, dropout, fully_connected\n",
    "from tflearn.layers.conv import conv_2d, max_pool_2d\n",
    "from tflearn.layers.normalization import local_response_normalization\n",
    "from tflearn.layers.estimator import regression\n",
    "\n",
    "# image load\n",
    "from tflearn.data_utils import image_preloader\n",
    "from tflearn.data_preprocessing import ImagePreprocessing\n",
    "from tflearn.data_augmentation import ImageAugmentation\n",
    "\n",
    "# Data loading and preprocessing\n",
    "import tflearn.datasets.mnist as mnist\n",
    "import tflearn.datasets.oxflower17 as oxflower17\n",
    "\n",
    "# DEFAULT_SOURCE_URL = 'http://yann.lecun.com/exdb/mnist/'\n",
    "\n",
    "def cnn():\n",
    "    \n",
    "    train_dataset_file = './train1.txt'\n",
    "    test_dataset_file = './test1.txt'\n",
    "    X,Y = image_preloader(train_dataset_file, image_shape=(9,9),mode='file',normalize=True, categorical_labels=True, grayscale=True)\n",
    "    x,y = image_preloader(test_dataset_file, image_shape=(9,9),mode='file',normalize=True, categorical_labels=True, grayscale=True)\n",
    "   \n",
    "    # X=X.reshape([-1,9,9,1])\n",
    "    img_prep = ImagePreprocessing()\n",
    "    img_prep.add_featurewise_zero_center()\n",
    "    img_prep.add_featurewise_stdnorm()\n",
    "    img_aug = ImageAugmentation()\n",
    "    \n",
    "    \n",
    "\n",
    "#     X, Y, testX, testY = mnist.load_data(one_hot=True)  #tflearn自带mnist数据集\n",
    "#     X = X.reshape([-1, 28, 28, 1])\n",
    "#     testX = testX.reshape([-1, 28, 28, 1])\n",
    "\n",
    "    # Building convolutional network\n",
    "    # network = input_data(shape=[None, 28, 28, 1], name='input')  #输入张量28*28*1\n",
    "    \n",
    "    network = input_data(shape=[None, 9, 9, 1], data_preprocessing=img_prep, data_augmentation=img_aug, name='input')\n",
    "    \n",
    "    network = conv_2d(network, 32, 3, activation='relu', regularizer=\"L2\")  #卷积处理3*3*32\n",
    "    network = max_pool_2d(network, 2)  #池化处理2*2\n",
    "    network = local_response_normalization(network)  #标准化张量    \n",
    "    \n",
    "    network = fully_connected(network, 64, activation='tanh')\n",
    "    network = fully_connected(network, 32, activation='tanh')\n",
    "    network = fully_connected(network, 10, activation='tanh')\n",
    "    network = dropout(network, 0.5)\n",
    "\n",
    "    network = fully_connected(network, 2, activation='softmax')\n",
    "    network = regression(network, optimizer='adam', learning_rate=0.01,\n",
    "                         loss='categorical_crossentropy', name='target')\n",
    "\n",
    "#     network = conv_2d(network, 32, 3, activation='relu', regularizer=\"L2\")  #卷积处理3*3*32\n",
    "#     network = max_pool_2d(network, 2)  #池化处理2*2\n",
    "#     network = local_response_normalization(network)  #标准化张量\n",
    "    \n",
    "#     network = conv_2d(network, 64, 3, activation='relu', regularizer=\"L2\")   #卷积处理3*3*64\n",
    "#     network = max_pool_2d(network, 2)    #池化处理2*2\n",
    "#     network = local_response_normalization(network)\n",
    "\n",
    "#     network = fully_connected(network, 64, activation='tanh')  #128个节点的全连接\n",
    "#     network = dropout(network, 0.8)   #dropout层\n",
    "#     network = fully_connected(network, 32, activation='tanh')\n",
    "#     network = dropout(network, 0.8)\n",
    "#     network = fully_connected(network,10, activation='softmax')  \n",
    "#     network = fully_connected(network,2, activation='softmax') \n",
    "#     network = regression(network, optimizer='adam', learning_rate=0.01,\n",
    "#                          loss='categorical_crossentropy', name='target')\n",
    "\n",
    "    # Training\n",
    "    model = tflearn.DNN(network, tensorboard_verbose=0)\n",
    "    # model.fit(X,Y)\n",
    "    model.fit({'input': X}, {'target': Y}, n_epoch=3,\n",
    "                   validation_set=({'input': x}, {'target': y}),\n",
    "                   show_metric=True, run_id='cnn_demo')"
   ]
  },
  {
   "cell_type": "code",
   "execution_count": 2,
   "id": "a6caed5f",
   "metadata": {},
   "outputs": [
    {
     "name": "stdout",
     "output_type": "stream",
     "text": [
      "Training Step: 2813  | total loss: \u001b[1m\u001b[32m0.00292\u001b[0m\u001b[0m | time: 12.989s\n",
      "| Adam | epoch: 003 | loss: 0.00292 - acc: 0.9993 -- iter: 59968/60000\n",
      "Training Step: 2814  | total loss: \u001b[1m\u001b[32m0.00328\u001b[0m\u001b[0m | time: 16.489s\n",
      "| Adam | epoch: 003 | loss: 0.00328 - acc: 0.9994 | val_loss: 0.00075 - val_acc: 0.9999 -- iter: 60000/60000\n",
      "--\n"
     ]
    }
   ],
   "source": [
    "cnn()"
   ]
  },
  {
   "cell_type": "code",
   "execution_count": null,
   "id": "40103fb0",
   "metadata": {},
   "outputs": [],
   "source": []
  }
 ],
 "metadata": {
  "kernelspec": {
   "display_name": "Python 3 (ipykernel)",
   "language": "python",
   "name": "python3"
  },
  "language_info": {
   "codemirror_mode": {
    "name": "ipython",
    "version": 3
   },
   "file_extension": ".py",
   "mimetype": "text/x-python",
   "name": "python",
   "nbconvert_exporter": "python",
   "pygments_lexer": "ipython3",
   "version": "3.7.4"
  },
  "varInspector": {
   "cols": {
    "lenName": 16,
    "lenType": 16,
    "lenVar": 40
   },
   "kernels_config": {
    "python": {
     "delete_cmd_postfix": "",
     "delete_cmd_prefix": "del ",
     "library": "var_list.py",
     "varRefreshCmd": "print(var_dic_list())"
    },
    "r": {
     "delete_cmd_postfix": ") ",
     "delete_cmd_prefix": "rm(",
     "library": "var_list.r",
     "varRefreshCmd": "cat(var_dic_list()) "
    }
   },
   "oldHeight": 332.85,
   "position": {
    "height": "40px",
    "left": "948.391px",
    "right": "20px",
    "top": "73px",
    "width": "350px"
   },
   "types_to_exclude": [
    "module",
    "function",
    "builtin_function_or_method",
    "instance",
    "_Feature"
   ],
   "varInspector_section_display": "none",
   "window_display": true
  }
 },
 "nbformat": 4,
 "nbformat_minor": 5
}
