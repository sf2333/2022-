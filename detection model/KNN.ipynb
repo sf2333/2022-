{
 "cells": [
  {
   "cell_type": "code",
   "execution_count": null,
   "metadata": {},
   "outputs": [],
   "source": [
    "from sklearn.ensemble import AdaBoostClassifier\n",
    "from sklearn.model_selection import cross_val_score\n",
    "import numpy as np\n",
    "from sklearn.tree import DecisionTreeClassifier\n",
    "from sklearn.svm import SVC\n",
    "from sklearn.linear_model import LogisticRegression\n",
    "from sklearn.neural_network import MLPClassifier\n",
    "from sklearn.ensemble import GradientBoostingClassifier\n",
    "\n",
    "from sklearn.neighbors import KNeighborsClassifier\n",
    "import pandas as pd\n",
    "from sklearn.model_selection import train_test_split\n",
    "from sklearn.preprocessing import StandardScaler\n",
    "\n",
    "#数据路径\n",
    "import os\n",
    "url_base = os.getcwd()"
   ]
  },
  {
   "cell_type": "code",
   "execution_count": 2,
   "metadata": {},
   "outputs": [
    {
     "name": "stdout",
     "output_type": "stream",
     "text": [
      "[1 1 1 ... 1 1 1]\n"
     ]
    }
   ],
   "source": [
    "#引入数据\n",
    "# /CSE-CIC-IDS2018 all Data\n",
    "url_data = f\"{url_base}/all.csv\"\n",
    "\n",
    "# info data (column names, col types)\n",
    "url_info = f\"{url_base}/all_names.names\"\n",
    "\n",
    "# Import info data\n",
    "df_info = pd.read_csv(url_info, sep=\":\", skiprows=1, index_col=False, names=[\"colname\", \"type\"])\n",
    "\n",
    "colnames = df_info.colname.values\n",
    "coltypes = np.where(df_info[\"type\"].str.contains(\"continuous\"), \"float\", \"str\")\n",
    "# print(df_info)\n",
    "\n",
    "# Import data\n",
    "df = pd.read_csv(url_data, names=colnames, index_col=False, dtype=dict(zip(colnames, coltypes)))\n",
    "# print(df)\n",
    "\n",
    "# Dumminize\n",
    "X = pd.get_dummies(df.iloc[:,:-1]).values\n",
    "# print(X)\n",
    "# X1 = pd.get_dummies(df.iloc[:,:-1])\n",
    "# print(X1)\n",
    "\n",
    "for x1 in X:\n",
    "    if np.isinf(x1).any():\n",
    "        print(x1)\n",
    "        for i in range(len(x1)):\n",
    "            if np.isinf(x1[i]):\n",
    "                print(i)\n",
    "        # print(np.isinf(x1).any())\n",
    "\n",
    "# Create Traget Flag\n",
    "# Anomaly data when status is normal, Otherwise, Not anomaly.\n",
    "y = np.where(df.Label == \"BENIGN\", 1, 0)\n",
    "print(y)\n",
    "# Split Data\n",
    "X_train, X_test, y_train, y_test = train_test_split(X, y, test_size=0.5, random_state=123)"
   ]
  },
  {
   "cell_type": "code",
   "execution_count": 3,
   "metadata": {},
   "outputs": [],
   "source": [
    "#数据预处理\n",
    "#标准化函数\n",
    "scaler = StandardScaler()\n",
    "X_soc = X_train\n",
    "X_soc_test = X_test\n",
    "X_train = scaler.fit_transform(X_train)\n",
    "X_test = scaler.transform(X_test)\n",
    "X_train = np.reshape(X_train,[-1,78,1])\n",
    "X_test = np.reshape(X_test,[-1,78,1])"
   ]
  },
  {
   "cell_type": "code",
   "execution_count": 4,
   "metadata": {},
   "outputs": [
    {
     "data": {
      "text/plain": [
       "KNeighborsClassifier(algorithm='auto', leaf_size=30, metric='minkowski',\n",
       "                     metric_params=None, n_jobs=None, n_neighbors=5, p=2,\n",
       "                     weights='uniform')"
      ]
     },
     "execution_count": 4,
     "metadata": {},
     "output_type": "execute_result"
    }
   ],
   "source": [
    "X = X_train.transpose(2,0,1)[0]\n",
    "y = y_train\n",
    "clf_KNN = KNeighborsClassifier()\n",
    "clf_KNN.fit(X, y)"
   ]
  },
  {
   "cell_type": "code",
   "execution_count": null,
   "metadata": {},
   "outputs": [],
   "source": [
    "# 数据出错，该模型暂无法使用\n",
    "\n",
    "# X = X_train.transpose(2,0,1)[0]\n",
    "# y = y_train\n",
    "# clf_LR = LogisticRegression()\n",
    "# clf_LR.fit(X, y)"
   ]
  },
  {
   "cell_type": "code",
   "execution_count": null,
   "metadata": {},
   "outputs": [],
   "source": [
    "X = X_train.transpose(2,0,1)[0]\n",
    "y = y_train\n",
    "clf_Adaboost = AdaBoostClassifier(DecisionTreeClassifier(),#max_depth=2, min_samples_split=20, min_samples_leaf=5),\n",
    "                         n_estimators=100)# 指定10个弱分类器\n",
    "clf_Adaboost.fit(X, y)"
   ]
  },
  {
   "cell_type": "code",
   "execution_count": null,
   "metadata": {},
   "outputs": [],
   "source": [
    "# 复制过来的结果\n",
    "\n",
    "#原始恶意样本\n",
    "se = [57420.0 ,1718.0 ,6.0 ,43.0 ,1.0 ,1.0 ,0.0 ,6.0 ,0.0 ,0.0 ,0.0 ,0.0 ,6.0 ,6.0 ,6.0 ,0.0 ,43.0 ,0.0 ,43.0 ,43.0 ,0.0 ,0.0 ,0.0 ,0.0 ,0.0 ,0.0 ,0.0 ,0.0 ,0.0 ,0.0 ,0.0 ,0.0 ,0.0 ,0.0 ,40.0 ,20.0 ,23255.81395 ,23255.81395 ,0.0 ,6.0 ,2.0 ,3.464101615 ,12.0 ,0.0 ,0.0 ,0.0 ,1.0 ,0.0 ,0.0 ,0.0 ,0.0 ,1.0 ,3.0 ,0.0 ,6.0 ,40.0 ,0.0 ,0.0 ,0.0 ,0.0 ,0.0 ,0.0 ,1.0 ,0.0 ,1.0 ,6.0 ,29200.0 ,0.0 ,0.0 ,40.0 ,0.0 ,0.0 ,0.0 ,0.0 ,0.0 ,0.0 ,0.0 ,0.0]\n",
    "\n",
    "# 由DeepFool白盒攻击算法生成的恶意对抗样本\n",
    "deepfool_ae = [65535.0 ,0.0 ,7.64 ,7907271.5 ,79.33 ,1674.26 ,3000.83 ,331326.97 ,376.95 ,0.0 ,64.42 ,111.8 ,232.84 ,11.66 ,129.99 ,0.0 ,-13.0 ,0.0 ,4333376.5 ,2078429.0 ,5820347.0 ,1387770.62 ,0.0 ,3090121.5 ,3410977.25 ,1358718.38 ,1473928.0 ,183327.69 ,1060969.5 ,1546550.5 ,0.02 ,0.0 ,0.0 ,0.0 ,1799528.0 ,390757.16 ,131820.67 ,0.0 ,0.0 ,111.86 ,1.15 ,0.0 ,0.0 ,0.0 ,0.02 ,0.0 ,0.86 ,0.0 ,0.06 ,0.0 ,0.0 ,0.69 ,0.0 ,66.03 ,122.1 ,1784553.75 ,0.0 ,0.0 ,0.0 ,0.0 ,0.0 ,0.0 ,84.91 ,3007.71 ,1677.15 ,326482.81 ,32786.21 ,6592.64 ,0.0 ,60.0 ,51610.84 ,5918.59 ,24319.35 ,12805.21 ,1018882.62 ,0.0 ,1241427.5 ,844242.06]\n",
    "\n",
    "# 由JSMA白盒攻击算法生成的恶意对抗样本\n",
    "jsmas_ae = [65535.0 ,65534.0 ,12.8 ,43.0 ,1.0 ,1.0 ,0.0 ,6.0 ,0.0 ,0.0 ,0.0 ,0.0 ,6.0 ,6.0 ,6.0 ,0.0 ,43.0 ,0.0 ,43.0 ,43.0 ,0.0 ,0.0 ,0.0 ,0.0 ,0.0 ,0.0 ,0.0 ,0.0 ,-0.0 ,0.0 ,0.0 ,0.0 ,0.0 ,0.0 ,40.0 ,20.0 ,23255.81 ,23255.81 ,0.0 ,6.0 ,2.0 ,3.46 ,12.0 ,0.0 ,0.0 ,0.0 ,1.0 ,0.0 ,0.0 ,0.0 ,0.0 ,1.0 ,3.0 ,0.0 ,6.0 ,40.0 ,0.0 ,0.0 ,0.0 ,0.0 ,0.0 ,0.0 ,1.0 ,0.0 ,1.0 ,6.0 ,29200.0 ,0.0 ,0.0 ,40.0 ,0.0 ,0.0 ,0.0 ,0.0 ,0.0 ,0.0 ,0.0 ,0.0]\n",
    "\n",
    "#由GAN训练恶意对抗样本生成的恶意对抗样本\n",
    "gan_ae = [65467.08, 0.0, 17.0, 37.07, 1.0, 0.0, 0.0, 0.0, 0.0, 26.93, 0.59, 0.0, 30.89, 62.34, 23.96, 0.0, -13.0, 0.0, -5.85, -13.0, 0.0, 0.0, 0.0, 3.58, 0.0, 96.56, 0.0, 17067.28, 21.46, 0.0, 0.0, 0.0, 0.0, 0.0, 0.0, 0.0, 83175.84, 136.55, 27.13, 1.37, 49.49, 0.21, 0.0, 0.0, 0.0, 0.0, 0.0, 0.0, 0.0, 0.0, 0.0, 0.94, 224.44, 0.57, 89.26, 0.0, 0.0, 0.0, 0.0, 0.0, 0.0, 0.0, 1.0, 1.43, 0.0, 521.33, -1.0, -1.0, 0.0, 13.33, 0.0, 0.0, 0.0, 0.0, 0.0, 0.0, 0.0, 3.58]"
   ]
  },
  {
   "cell_type": "code",
   "execution_count": null,
   "metadata": {},
   "outputs": [],
   "source": [
    "#不同的模型预测对抗样本的类别可能不同\n",
    "se = scaler.transform([se])\n",
    "deepfool_ae = scaler.transform([deepfool_ae])\n",
    "jsmas_ae = scaler.transform([jsmas_ae])\n",
    "gan_ae = scaler.transform([gan_ae])\n",
    "\n",
    "se_pred = clf_KNN.predict(se)\n",
    "deepfool_ae_pred = clf_KNN.predict(deepfool_ae)\n",
    "jsmas_ae_pred = clf_KNN.predict(jsmas_ae)\n",
    "gan_ae_pred = clf_KNN.predict(gan_ae)\n",
    "\n",
    "# print(se_pred,ae_pred)\n",
    "# se_pred = clf_LR.predict(se)\n",
    "# ae_pred = clf_LR.predict(ae)\n",
    "# print(se_pred,ae_pred)\n",
    "\n",
    "print('KNN分类器结果:(0 为恶意、 1 为正常)')\n",
    "# print(se_pred,deepfool_ae_pred,jsmas_ae_pred,gan_ae_pred)\n",
    "print('原恶意样本 %s、DeepFool生成恶意对抗样本 %s、JSMA生成恶意对抗样本 %s、GAN训练生成恶意对抗样本 %s' % (se_pred,deepfool_ae_pred,jsmas_ae_pred,gan_ae_pred))"
   ]
  },
  {
   "cell_type": "code",
   "execution_count": null,
   "metadata": {},
   "outputs": [],
   "source": [
    "#不同的模型预测对抗样本的类别可能不同\n",
    "\n",
    "se_pred = clf_Adaboost.predict(se)\n",
    "deepfool_ae_pred = clf_Adaboost.predict(deepfool_ae)\n",
    "jsmas_ae_pred = clf_Adaboost.predict(jsmas_ae)\n",
    "gan_ae_pred = clf_Adaboost.predict(gan_ae)\n",
    "\n",
    "print('Adaboost分类器结果:(0 为恶意、 1 为正常)')\n",
    "print('原恶意样本 %s、DeepFool生成恶意对抗样本 %s、JSMA生成恶意对抗样本 %s、GAN训练生成恶意对抗样本 %s' % (se_pred,deepfool_ae_pred,jsmas_ae_pred,gan_ae_pred))"
   ]
  },
  {
   "cell_type": "code",
   "execution_count": 6,
   "metadata": {},
   "outputs": [
    {
     "name": "stdout",
     "output_type": "stream",
     "text": [
      "100\n",
      "(100, 78)\n",
      "平均欺骗率：88.00%\n"
     ]
    }
   ],
   "source": [
    "def npy_proloader(root_dir):\n",
    "    data_list = []\n",
    "    for path, dirs, files in os.walk(root_dir):\n",
    "        for file in files:\n",
    "            npy_path = os.path.join(path, file)\n",
    "            x = np.load(npy_path)\n",
    "            data_list.append(x)\n",
    "    return data_list\n",
    "\n",
    "ae_list = np.load('.\\wpgan-gp_1b.npy')\n",
    "\n",
    "\n",
    "def Avg_predict_rate(ae_list):\n",
    "    lens = len(ae_list)\n",
    "    print(lens)\n",
    "    ae_list = np.reshape(ae_list, [lens, 78])\n",
    "    print(np.shape(ae_list))\n",
    "    ae_list = scaler.transform(ae_list)\n",
    "    ae_pred = clf_KNN.predict(ae_list)\n",
    "    # print(ae_pred)\n",
    "    \n",
    "    avarage = 0\n",
    "    for i in ae_pred:\n",
    "        avarage += i\n",
    "    \n",
    "    rate = avarage / lens\n",
    "    print(\"平均欺骗率：{:.2%}\".format(rate))\n",
    "\n",
    "Avg_predict_rate(ae_list)"
   ]
  },
  {
   "cell_type": "code",
   "execution_count": null,
   "metadata": {},
   "outputs": [],
   "source": []
  }
 ],
 "metadata": {
  "interpreter": {
   "hash": "5f7471677c3eccb4f7f87eeadc33cee708012785cef252896dc4f780e13ed304"
  },
  "kernelspec": {
   "display_name": "Python 3 (ipykernel)",
   "language": "python",
   "name": "python3"
  },
  "language_info": {
   "codemirror_mode": {
    "name": "ipython",
    "version": 3
   },
   "file_extension": ".py",
   "mimetype": "text/x-python",
   "name": "python",
   "nbconvert_exporter": "python",
   "pygments_lexer": "ipython3",
   "version": "3.7.4"
  },
  "varInspector": {
   "cols": {
    "lenName": 16,
    "lenType": 16,
    "lenVar": 40
   },
   "kernels_config": {
    "python": {
     "delete_cmd_postfix": "",
     "delete_cmd_prefix": "del ",
     "library": "var_list.py",
     "varRefreshCmd": "print(var_dic_list())"
    },
    "r": {
     "delete_cmd_postfix": ") ",
     "delete_cmd_prefix": "rm(",
     "library": "var_list.r",
     "varRefreshCmd": "cat(var_dic_list()) "
    }
   },
   "types_to_exclude": [
    "module",
    "function",
    "builtin_function_or_method",
    "instance",
    "_Feature"
   ],
   "window_display": false
  }
 },
 "nbformat": 4,
 "nbformat_minor": 2
}
